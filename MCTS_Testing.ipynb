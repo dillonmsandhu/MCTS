{
 "cells": [
  {
   "cell_type": "code",
   "execution_count": 1,
   "metadata": {},
   "outputs": [],
   "source": [
    "import gym\n",
    "from MCTS import play_episode"
   ]
  },
  {
   "cell_type": "code",
   "execution_count": 2,
   "metadata": {},
   "outputs": [
    {
     "name": "stdout",
     "output_type": "stream",
     "text": [
      "num_simulations: 0. Average Reward: 0.01 Win Rate: 0.01.\n",
      "num_simulations: 5. Average Reward: 0.09 Win Rate: 0.09.\n",
      "num_simulations: 10. Average Reward: 0.10 Win Rate: 0.10.\n",
      "num_simulations: 50. Average Reward: 0.67 Win Rate: 0.67.\n",
      "num_simulations: 100. Average Reward: 0.87 Win Rate: 0.87.\n"
     ]
    }
   ],
   "source": [
    "#FrozenLake-v1 is considered \"solved\" \n",
    "# when the agent obtains an average reward of at least 0.78 over 100 consecutive episodes.)\n",
    "NUM_TRIALS = 100\n",
    "env = gym.make('FrozenLake-v1')\n",
    "for num_simulations in [0,5,10,50,100]:\n",
    "    rews = []\n",
    "    wins=0\n",
    "    for trials in range(NUM_TRIALS):\n",
    "        ep_len, ep_rew = play_episode(env,num_simulations,randomize_env=False)\n",
    "        rews.append(ep_rew)\n",
    "        if ep_rew==1: wins+=1\n",
    "    win_rate = wins/NUM_TRIALS\n",
    "    avg_rew = sum(rews)/NUM_TRIALS\n",
    "    print(f'num_simulations: {num_simulations}. Average Reward: {avg_rew:.2f} Win Rate: {win_rate:.2f}.')"
   ]
  },
  {
   "cell_type": "code",
   "execution_count": 3,
   "metadata": {},
   "outputs": [
    {
     "name": "stdout",
     "output_type": "stream",
     "text": [
      "num_simulations: 0. Average Reward: -0.38 Win Rate: 0.29, Draw Rate 0.67, Lose Rate 0.04\n",
      "num_simulations: 2. Average Reward: -0.41 Win Rate: 0.27, Draw Rate 0.68, Lose Rate 0.05\n",
      "num_simulations: 5. Average Reward: -0.12 Win Rate: 0.41, Draw Rate 0.53, Lose Rate 0.06\n",
      "num_simulations: 10. Average Reward: -0.10 Win Rate: 0.41, Draw Rate 0.51, Lose Rate 0.09\n"
     ]
    }
   ],
   "source": [
    "# blackjack trials\n",
    "# Blackjack's \"Basic Strategy\" which is as good as posibe without counting cards\n",
    "# wins 43.3 percent of the time.\n",
    "NUM_TRIALS = 1000\n",
    "env = gym.make('Blackjack-v1')\n",
    "for num_simulations in [0,2,5,10]:\n",
    "    rews = []\n",
    "    wins,loses,draws = 0,0,0\n",
    "    for trials in range(NUM_TRIALS):\n",
    "        ep_len, ep_rew = play_episode(env,num_simulations,randomize_env=True)\n",
    "        rews.append(ep_rew)\n",
    "        if ep_rew==1: wins+=1\n",
    "        if ep_rew==-1: loses+=1\n",
    "        if ep_rew == 0: draws +=1\n",
    "    win_rate = wins/NUM_TRIALS\n",
    "    draw_rate = loses/NUM_TRIALS\n",
    "    lose_rate = draws/NUM_TRIALS\n",
    "    avg_rew = sum(rews)/NUM_TRIALS\n",
    "    print(f'num_simulations: {num_simulations}. Average Reward: {avg_rew:.2f} Win Rate: {win_rate:.2f}, Draw Rate {draw_rate:.2f}, Lose Rate {lose_rate:.2f}')"
   ]
  },
  {
   "cell_type": "code",
   "execution_count": 4,
   "metadata": {},
   "outputs": [
    {
     "name": "stdout",
     "output_type": "stream",
     "text": [
      "num_simulations: 0. Average Reward: 20.48\n",
      "num_simulations: 5. Average Reward: 314.36\n",
      "num_simulations: 50. Average Reward: 343.10\n"
     ]
    }
   ],
   "source": [
    "# Cartpole Trials:\n",
    "# (CartPole-v1 is considered \"solved\" when the agent obtains an average reward \n",
    "# of at least 475.0 over 100 consecutive episodes.)\n",
    "env = gym.make('CartPole-v1')\n",
    "NUM_TRIALS=50\n",
    "for num_simulations in [0,5,50]:\n",
    "    rews = []\n",
    "    for trials in range(NUM_TRIALS):\n",
    "        rew,_ = play_episode(env,num_simulations)\n",
    "        rews.append(rew)\n",
    "        mean_rews = sum(rews)/len(rews)\n",
    "    print(f'num_simulations: {num_simulations}. Average Reward: {mean_rews:.2f}')\n",
    "        "
   ]
  },
  {
   "cell_type": "code",
   "execution_count": null,
   "metadata": {},
   "outputs": [],
   "source": []
  }
 ],
 "metadata": {
  "kernelspec": {
   "display_name": "mcts",
   "language": "python",
   "name": "mcts"
  },
  "language_info": {
   "codemirror_mode": {
    "name": "ipython",
    "version": 3
   },
   "file_extension": ".py",
   "mimetype": "text/x-python",
   "name": "python",
   "nbconvert_exporter": "python",
   "pygments_lexer": "ipython3",
   "version": "3.9.7"
  },
  "orig_nbformat": 2
 },
 "nbformat": 4,
 "nbformat_minor": 2
}